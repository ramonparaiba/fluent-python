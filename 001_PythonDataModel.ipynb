{
  "nbformat": 4,
  "nbformat_minor": 0,
  "metadata": {
    "colab": {
      "provenance": [],
      "authorship_tag": "ABX9TyPN83NKDgK+46fECjpaAsLY",
      "include_colab_link": true
    },
    "kernelspec": {
      "name": "python3",
      "display_name": "Python 3"
    },
    "language_info": {
      "name": "python"
    }
  },
  "cells": [
    {
      "cell_type": "markdown",
      "metadata": {
        "id": "view-in-github",
        "colab_type": "text"
      },
      "source": [
        "<a href=\"https://colab.research.google.com/github/ramonparaiba/fluent-python/blob/main/001_PythonDataModel.ipynb\" target=\"_parent\"><img src=\"https://colab.research.google.com/assets/colab-badge.svg\" alt=\"Open In Colab\"/></a>"
      ]
    },
    {
      "cell_type": "code",
      "execution_count": 1,
      "metadata": {
        "id": "MnypKqHu5Z0X"
      },
      "outputs": [],
      "source": [
        "import collections"
      ]
    },
    {
      "cell_type": "code",
      "source": [
        "Card = collections.namedtuple('Card', ['rank', 'suit'])"
      ],
      "metadata": {
        "id": "LKENSPZP5f66"
      },
      "execution_count": 4,
      "outputs": []
    },
    {
      "cell_type": "code",
      "source": [
        "class FrenchDeck:\n",
        "  ranks = [str(n) for  n in range(2,11)] + list('JQKA')\n",
        "  suits = 'spades diamonds clubs hearts'.split()\n",
        "\n",
        "  def __init__(self):\n",
        "    self._cards = [Card(rank, suit) for rank in self.ranks for suit in self.suits]\n",
        "  def __len__(self):\n",
        "    return len(self._cards)\n",
        "  def __getitem__(self, position):\n",
        "    return self._cards[position]"
      ],
      "metadata": {
        "id": "Xb68C9RZ8nOV"
      },
      "execution_count": 28,
      "outputs": []
    },
    {
      "cell_type": "code",
      "source": [
        "barai = Card('2', 'clubs')\n",
        "barai"
      ],
      "metadata": {
        "colab": {
          "base_uri": "https://localhost:8080/"
        },
        "id": "Dj3mNYO_9DyT",
        "outputId": "8d79b20f-f83d-4aea-8b62-c14c9b10f4d1"
      },
      "execution_count": 34,
      "outputs": [
        {
          "output_type": "execute_result",
          "data": {
            "text/plain": [
              "Card(rank='2', suit='clubs')"
            ]
          },
          "metadata": {},
          "execution_count": 34
        }
      ]
    },
    {
      "cell_type": "code",
      "source": [
        "deck = FrenchDeck()\n",
        "len(deck)"
      ],
      "metadata": {
        "colab": {
          "base_uri": "https://localhost:8080/"
        },
        "id": "_CSoMWdnH7S2",
        "outputId": "b8569e0e-2419-427d-ecdc-9465fabf7a7c"
      },
      "execution_count": 42,
      "outputs": [
        {
          "output_type": "execute_result",
          "data": {
            "text/plain": [
              "52"
            ]
          },
          "metadata": {},
          "execution_count": 42
        }
      ]
    },
    {
      "cell_type": "code",
      "source": [
        "from random import choice\n",
        "choice(deck)"
      ],
      "metadata": {
        "colab": {
          "base_uri": "https://localhost:8080/"
        },
        "id": "c0asD5GIIC3m",
        "outputId": "899ec304-1a93-4a88-bf70-821814b6fd02"
      },
      "execution_count": 68,
      "outputs": [
        {
          "output_type": "execute_result",
          "data": {
            "text/plain": [
              "Card(rank='3', suit='clubs')"
            ]
          },
          "metadata": {},
          "execution_count": 68
        }
      ]
    },
    {
      "cell_type": "markdown",
      "source": [
        "#Revisão de conceitos\n",
        "* Split()\n",
        "* [for lista]"
      ],
      "metadata": {
        "id": "X2buxhAf94E6"
      }
    },
    {
      "cell_type": "code",
      "source": [
        "frutas = 'manga melão batata tomate'.split()"
      ],
      "metadata": {
        "id": "J_cY6ilm-C3o"
      },
      "execution_count": 11,
      "outputs": []
    },
    {
      "cell_type": "code",
      "source": [
        "#Percorre uma lista, e cria uma nova usando dados de um for.\n",
        "\n",
        "[str(n) for n in range(5, 20)]"
      ],
      "metadata": {
        "id": "l87-vU66-ONZ"
      },
      "execution_count": null,
      "outputs": []
    },
    {
      "cell_type": "code",
      "source": [
        "pessoa = collections.namedtuple('Pessoa', ['nome','profis'])\n",
        "\n",
        "nomes = 'Zé albertina francisco Arlinda Leocadia'.split()\n",
        "profiss = 'professor médico engenheiro biscate mecanico'.split()\n",
        "\n",
        "registro = [pessoa(nome, profis) for nome in nomes\n",
        "                                 for profis in profiss]\n",
        "registro\n",
        "cara = pessoa('Zé', 'Médico')\n",
        "\n",
        "registro[17]"
      ],
      "metadata": {
        "colab": {
          "base_uri": "https://localhost:8080/"
        },
        "id": "i2fxGwp4_1IG",
        "outputId": "4697a694-b897-47fb-8edd-4ce880b022c3"
      },
      "execution_count": 40,
      "outputs": [
        {
          "output_type": "execute_result",
          "data": {
            "text/plain": [
              "Pessoa(nome='Arlinda', profis='engenheiro')"
            ]
          },
          "metadata": {},
          "execution_count": 40
        }
      ]
    },
    {
      "cell_type": "code",
      "source": [
        "[str(n) for  n in range(2,11)] + list('JQKA')"
      ],
      "metadata": {
        "colab": {
          "base_uri": "https://localhost:8080/"
        },
        "id": "f3EB9b0JAUSl",
        "outputId": "43775642-5ff1-4ba9-ac45-cf1789c75b9e"
      },
      "execution_count": 16,
      "outputs": [
        {
          "output_type": "execute_result",
          "data": {
            "text/plain": [
              "['2', '3', '4', '5', '6', '7', '8', '9', '10', 'J', 'Q', 'K', 'A']"
            ]
          },
          "metadata": {},
          "execution_count": 16
        }
      ]
    }
  ]
}